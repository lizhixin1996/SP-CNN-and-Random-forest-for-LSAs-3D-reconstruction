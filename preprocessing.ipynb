{
 "cells": [
  {
   "cell_type": "code",
   "execution_count": null,
   "metadata": {},
   "outputs": [],
   "source": [
    "import SimpleITK as sitk\n",
    "import sys\n",
    "import os\n",
    "import pydicom\n",
    "import numpy as np\n",
    "import nibabel as nib\n",
    "import pandas as pd\n",
    "import math\n",
    "import os.path\n",
    "import cv2\n",
    "from sklearn.ensemble import RandomForestClassifier\n",
    "from sklearn.metrics import accuracy_score\n",
    "from sklearn.metrics import confusion_matrix\n",
    "from sklearn.metrics import classification_report\n",
    "from sklearn.preprocessing import StandardScaler\n",
    "import pydicom\n",
    "from PIL import Image\n",
    "import cv2 as cv\n",
    "import random\n",
    "import pickle\n",
    "import tensorflow as tf\n",
    "from scipy import interpolate\n",
    "import matplotlib.pyplot as plt\n",
    "import multiprocessing\n",
    "from multiprocessing import Pool,Process\n",
    "import threading  \n",
    "import time\n",
    "import scipy.io as io\n",
    "import pydicom"
   ]
  },
  {
   "cell_type": "code",
   "execution_count": null,
   "metadata": {},
   "outputs": [],
   "source": [
    "d3_plat_1 = [[0,0,0],[-1,-1,0],[0,-1,0],[1,-1,0],[1,0,0],[1,1,0],[0,1,0],[-1,1,0],[-1,0,0],\n",
    "             [0,0,1],[-1,-1,1],[0,-1,1],[1,-1,1],[1,0,1],[1,1,1],[0,1,1],[-1,1,1],[-1,0,1],\n",
    "             [0,0,-1],[-1,-1,-1],[0,-1,-1],[1,-1,-1],[1,0,-1],[1,1,-1],[0,1,-1],[-1,1,-1],[-1,0,-1]]\n",
    "d2_plat_1 = [[0,0,0],[-1,-1,0],[0,-1,0],[1,-1,0],[1,0,0],[1,1,0],[0,1,0],[-1,1,0],[-1,0,0]]\n",
    "d3_plat_1_5 = [[0,0,0],[-5,-5,0],[0,-5,0],[5,-5,0],[5,0,0],[5,5,0],[0,5,0],[-5,5,0],[-5,0,0],\n",
    "               [0,0,5],[-5,-5,5],[0,-5,5],[5,-5,5],[5,0,5],[5,5,5],[0,5,5],[-5,5,5],[-5,0,5],\n",
    "               [0,0,-5],[-5,-5,-5],[0,-5,-5],[5,-5,-5],[5,0,-5],[5,5,-5],[0,5,-5],[-5,5,-5],[-5,0,-5]]\n",
    "d3_plat_1_no0 = [[-1,-1,0],[0,-1,0],[1,-1,0],[1,0,0],[1,1,0],[0,1,0],[-1,1,0],[-1,0,0],\n",
    "             [0,0,1],[-1,-1,1],[0,-1,1],[1,-1,1],[1,0,1],[1,1,1],[0,1,1],[-1,1,1],[-1,0,1],\n",
    "             [0,0,-1],[-1,-1,-1],[0,-1,-1],[1,-1,-1],[1,0,-1],[1,1,-1],[0,1,-1],[-1,1,-1],[-1,0,-1]]\n",
    "d3_plat_0 = [[0,0,0]]\n",
    "d2_plat_1_4 = [[0,-1],[1,0],[0,1],[-1,0]]\n",
    "d2_plat_1_8 = [[-1,-1],[0,-1],[1,-1],[1,0],[1,1],[0,1],[-1,1],[-1,0]]"
   ]
  },
  {
   "cell_type": "code",
   "execution_count": null,
   "metadata": {},
   "outputs": [],
   "source": [
    "def read_data(path):#定义一个“读取图像”函数，用来读取图像\n",
    "    image_data = nib.load(path)\n",
    "    return image_data"
   ]
  },
  {
   "cell_type": "code",
   "execution_count": null,
   "metadata": {},
   "outputs": [],
   "source": [
    "file_number = []\n",
    "for number in file_number:\n",
    "    begin_time = time.time()\n",
    "    path = \n",
    "    files = os.listdir(path)\n",
    "\n",
    "    slices = []\n",
    "    m = 0\n",
    "    for i in files:\n",
    "        #print(i)\n",
    "        m=m+1\n",
    "\n",
    "        img = pydicom.dcmread(os.path.join(path,i))\n",
    "        data = img.pixel_array\n",
    "        a = data.tolist()\n",
    "        slices.append(a)\n",
    "    slices = np.array(slices)\n",
    "\n",
    "    target_3d = np.array(slices)\n",
    "    target_3d = target_3d.T\n",
    "    chang = target_3d.shape[0]\n",
    "    kuan = target_3d.shape[1]\n",
    "    gao = target_3d.shape[2]\n",
    "    target_3d_prepare = np.zeros((chang,kuan,gao))\n",
    "    target_3d_prepare.tolist\n",
    "\n",
    "    for x in range(chang):\n",
    "        for y in range(kuan):\n",
    "            for z in range(gao):\n",
    "                target_3d_prepare[x,y,z] = target_3d[chang-x-1,kuan-y-1,z]\n",
    "\n",
    "    #target_3d_prepare2 = target_3d_prepare.transpose((2,0,1))\n",
    "    #print(target_3d_prepare.shape)\n",
    "    print(time.time()-begin_time)\n",
    "    affine = np.diag([1, 2, 3,1])\n",
    "    img_3d = nib.Nifti1Image(target_3d_prepare, affine)\n",
    "    img_3d.shape\n",
    "    out_path = os.path.join(path,)\n",
    "    nib.save(img_3d, out_path)\n",
    "    target_3d_crop = target_3d_prepare[int(a/4):int(a-a/4),int(b*0.4):int(b-b/3),int(c*0):int(c)]#as default\n",
    "    affine = np.diag([1, 2, 3,1])\n",
    "    img_3d = nib.Nifti1Image(target_3d_crop, affine)\n",
    "    out_path = os.path.join(new_patient_path,r'%s_crop.nii'%patient_number)\n",
    "    nib.save(img_3d, out_path)"
   ]
  },
  {
   "cell_type": "code",
   "execution_count": null,
   "metadata": {},
   "outputs": [],
   "source": [
    "def N4(ifile,ofile):\n",
    "    inputImage = sitk.ReadImage(ifile)\n",
    "    maskImage = sitk.OtsuThreshold(inputImage,0,1,200)\n",
    "    #sitk.WriteImage(maskImage, \"06-t1c_mask3.nii.gz\")\n",
    "    inputImage = sitk.Cast(inputImage,sitk.sitkFloat32)\n",
    "    corrector = sitk.N4BiasFieldCorrectionImageFilter();\n",
    "    output = corrector.Execute(inputImage,maskImage)\n",
    "    sitk.WriteImage(output,ofile)"
   ]
  },
  {
   "cell_type": "code",
   "execution_count": null,
   "metadata": {},
   "outputs": [],
   "source": [
    "N4(target_3d_prepare,ofilepath)"
   ]
  }
 ],
 "metadata": {
  "kernelspec": {
   "display_name": "Python 3",
   "language": "python",
   "name": "python3"
  },
  "language_info": {
   "codemirror_mode": {
    "name": "ipython",
    "version": 3
   },
   "file_extension": ".py",
   "mimetype": "text/x-python",
   "name": "python",
   "nbconvert_exporter": "python",
   "pygments_lexer": "ipython3",
   "version": "3.7.6"
  }
 },
 "nbformat": 4,
 "nbformat_minor": 4
}
